{
 "cells": [
  {
   "cell_type": "markdown",
   "metadata": {},
   "source": [
    "# Making Publication Ready Plots with Python"
   ]
  },
  {
   "cell_type": "markdown",
   "metadata": {},
   "source": [
    "So you want to use python to plot stuff, huh? \n",
    "Well good idea!\n",
    "\n",
    "First a couple of things to note:\n",
    "\n",
    "1) If you are uncomfortable with typing code - use a different plotting software like Origin (free through ASU)\n",
    "\n",
    "2) Python is a language, but you don't actually work in the \"Python\" program. You will need a software to code your python script in such as this one. This is a Jupyter notebook, but there are other options like Spyder, Visual Studio Code, Vim, Atom, etc. \n",
    "\n",
    "3) Matplotlib.pyplot is the plotting package for python that I am going to use during this brief presentation. \n",
    "\n",
    "Python is nice for creating several of one kind of plot, because you can create functions to input new data into and output the same graph style with no effort after the function is built. That's what I am going to show you all how to do here. Very quickly. "
   ]
  },
  {
   "cell_type": "code",
   "execution_count": null,
   "metadata": {},
   "outputs": [],
   "source": [
    "# import desired packages\n",
    "import matplotlib.pyplot as plt # plotting package\n",
    "import pandas as pd # data structuring package\n",
    "import numpy as np # array processing package"
   ]
  },
  {
   "cell_type": "markdown",
   "metadata": {},
   "source": [
    "Okay. So...\n",
    "\n",
    "**STEP 1: get the data**\n",
    "\n",
    "So normally you would pull this from a csv or an excell document using code like this:\n",
    "\n",
    "data = pd.read_csv('path\\filename.csv') # for a csv \n",
    "data = pd.read_excel('path\\filename.xlsx', sheetname='Sheet1') # for an excel document\n",
    "\n",
    "However, I am not going to use any of my data for this so I'm just going to make a dataframe filled with perfect, random (not really random) concentration data that we can use for this exercise (Note: this is useful for testing code to see if it's your code or the data's fault).\n",
    "\n",
    "So my data is going to simulate a time series set of data for three different treatments with different starting concentrations. We'll call them treatment A, B, and C. "
   ]
  },
  {
   "cell_type": "code",
   "execution_count": null,
   "metadata": {},
   "outputs": [],
   "source": [
    "# make an array of perfect first order concentration data.\n",
    "t = np.linspace(0, 24, num=25)\n",
    "C = np.multiply(np.exp(np.multiply(t,-0.45)),10)\n",
    "\n",
    "# making my dataframe\n",
    "data = pd.DataFrame(columns = ['Time','Concentration A','Concentration B','Concentration C'])\n",
    "data['Time'] = pd.Series(t)\n",
    "data['Concentration A'] = pd.Series(C)\n",
    "data['Concentration B'] = pd.Series(np.multiply(C, 0.5))\n",
    "data['Concentration C'] = pd.Series(np.multiply(C, 2))\n",
    "print(data.head(10)) # prints first 10 rows"
   ]
  },
  {
   "cell_type": "markdown",
   "metadata": {},
   "source": [
    "**STEP 2: build your very specific plotting function**\n",
    "\n",
    "So in this case you want some pretty specific parameters for the plot (you can change these as the publication requires)"
   ]
  },
  {
   "cell_type": "code",
   "execution_count": null,
   "metadata": {},
   "outputs": [],
   "source": [
    "def plot_my_cool_plots(x,y):\n",
    "    # reset parameters \n",
    "    params = {'axes.labelsize': 20,\n",
    "             'font.size': 20,\n",
    "             'legend.fontsize': 22,\n",
    "             'xtick.labelsize': 20,\n",
    "             'ytick.labelsize': 20,\n",
    "             'text.usetex': False,\n",
    "             'figure.figsize': [10,10]}\n",
    "    plt.rcParams.update(params)\n",
    "    \n",
    "    # set possible colors and linestyles and markers (I'm listing options but you could probably just pick one)\n",
    "    color = ['green','blue','red','black','cyan']\n",
    "    style = ['-','--','-.',':']\n",
    "    marker = ['o','v','x','D','*']\n",
    "    count = 0\n",
    "    \n",
    "    # loop through columns within 'y' data\n",
    "    for (Name, yData) in y.iteritems():\n",
    "        plt.plot(x, yData, color=color[count],linestyle=style[0], marker=marker[count], markersize=10, label=Name, linewidth=2)\n",
    "        count += 1\n",
    "    \n",
    "    \n",
    "    plt.xlabel('Time [h]')\n",
    "    plt.ylabel('Concentration [g $L^{-1}$]')\n",
    "    plt.legend()\n",
    "    plt.show()"
   ]
  },
  {
   "cell_type": "markdown",
   "metadata": {},
   "source": [
    "So drum rolllll please!\n",
    "\n",
    "**STEP 3: put the data through the function!**"
   ]
  },
  {
   "cell_type": "code",
   "execution_count": null,
   "metadata": {},
   "outputs": [],
   "source": [
    "plot_my_cool_plots(data.iloc[:,0], data.iloc[:,1:])"
   ]
  },
  {
   "cell_type": "markdown",
   "metadata": {},
   "source": [
    "# TADA! \n",
    "\n",
    "So neat, right? You can build whatever kind of function you want to do these. There are options for scatterplots, boxplots, bar plots, etc. The options are endless.\n",
    "\n",
    "Best part is, once you build the function once (depending on how you do it), you can use it for any kind of data that you want plotted in that fashion. So no repeatedly formatting! Great, right? For example, I'll show a quick zero order rate function time series for four treatments instead of three first order rate functions. "
   ]
  },
  {
   "cell_type": "code",
   "execution_count": null,
   "metadata": {},
   "outputs": [],
   "source": [
    "# make an array of perfect first order concentration data.\n",
    "C = np.add(np.multiply(t,-0.45),10)\n",
    "\n",
    "# making my dataframe\n",
    "data = pd.DataFrame(columns = ['Time','Concentration A','Concentration B','Concentration C','Concentration D'])\n",
    "data['Time'] = pd.Series(t)\n",
    "data['Concentration A'] = pd.Series(C)\n",
    "data['Concentration B'] = pd.Series(np.multiply(C, 0.5))\n",
    "data['Concentration C'] = pd.Series(np.multiply(C, 2))\n",
    "data['Concentration D'] = pd.Series(np.multiply(C, 5))\n",
    "print(data.head(10)) # prints first 10 rows"
   ]
  },
  {
   "cell_type": "code",
   "execution_count": null,
   "metadata": {},
   "outputs": [],
   "source": [
    "plot_my_cool_plots(data.iloc[:,0], data.iloc[:,1:])"
   ]
  },
  {
   "cell_type": "markdown",
   "metadata": {},
   "source": [
    "Well... That's all folks. "
   ]
  },
  {
   "cell_type": "code",
   "execution_count": null,
   "metadata": {},
   "outputs": [],
   "source": []
  }
 ],
 "metadata": {
  "kernelspec": {
   "display_name": "Python 3",
   "language": "python",
   "name": "python3"
  },
  "language_info": {
   "codemirror_mode": {
    "name": "ipython",
    "version": 3
   },
   "file_extension": ".py",
   "mimetype": "text/x-python",
   "name": "python",
   "nbconvert_exporter": "python",
   "pygments_lexer": "ipython3",
   "version": "3.7.1"
  }
 },
 "nbformat": 4,
 "nbformat_minor": 4
}
